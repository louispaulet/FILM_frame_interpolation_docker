{
 "cells": [
  {
   "cell_type": "code",
   "execution_count": null,
   "id": "570dc778-39c2-4e13-9312-80eb3823c04a",
   "metadata": {},
   "outputs": [],
   "source": [
    "%cd /content/"
   ]
  },
  {
   "cell_type": "code",
   "execution_count": null,
   "id": "07a25eda-89e7-4f86-984f-9f0e22526dd3",
   "metadata": {},
   "outputs": [],
   "source": [
    "!pip install mediapy natsort"
   ]
  },
  {
   "cell_type": "code",
   "execution_count": null,
   "id": "14e4efab-2f20-47b4-8d72-88f4c21bd018",
   "metadata": {
    "tags": []
   },
   "outputs": [],
   "source": [
    "!python3 -m frame_interpolation.eval.interpolator_cli \\\n",
    "     --pattern \"project_volume/4-shrek_interpol_next_161\" \\\n",
    "     --model_path project_volume/saved_model \\\n",
    "     --times_to_interpolate 2 \\\n",
    "     --output_video"
   ]
  },
  {
   "cell_type": "code",
   "execution_count": null,
   "id": "7b7816e8-1c48-4e46-aed2-de7514d683c9",
   "metadata": {},
   "outputs": [],
   "source": [
    "!python3 -m frame_interpolation.eval.interpolator_cli \\\n",
    "     --pattern \"project_volume/5-shrek_interpol_next_127\" \\\n",
    "     --model_path project_volume/saved_model \\\n",
    "     --times_to_interpolate 2 \\\n",
    "     --output_video"
   ]
  },
  {
   "cell_type": "code",
   "execution_count": null,
   "id": "1a129c1b-3672-4e50-a6ba-9a6597132ae3",
   "metadata": {},
   "outputs": [],
   "source": [
    "!python3 -m frame_interpolation.eval.interpolator_cli \\\n",
    "     --pattern \"project_volume/6-shrek_interpol_next_137\" \\\n",
    "     --model_path project_volume/saved_model \\\n",
    "     --times_to_interpolate 2 \\\n",
    "     --output_video"
   ]
  },
  {
   "cell_type": "code",
   "execution_count": null,
   "id": "ab57f186-d1a0-4d02-bcd4-2735644be22d",
   "metadata": {},
   "outputs": [],
   "source": [
    "!python3 -m frame_interpolation.eval.interpolator_cli \\\n",
    "     --pattern \"project_volume/7-shrek_interpol_next_123\" \\\n",
    "     --model_path project_volume/saved_model \\\n",
    "     --times_to_interpolate 2 \\\n",
    "     --output_video"
   ]
  },
  {
   "cell_type": "code",
   "execution_count": null,
   "id": "4afcb31a-ee11-484b-b087-1925da2a1ef2",
   "metadata": {},
   "outputs": [],
   "source": [
    "!python3 -m frame_interpolation.eval.interpolator_cli \\\n",
    "     --pattern \"project_volume/8-shrek_interpol_next_136\" \\\n",
    "     --model_path project_volume/saved_model \\\n",
    "     --times_to_interpolate 2 \\\n",
    "     --output_video"
   ]
  },
  {
   "cell_type": "code",
   "execution_count": null,
   "id": "85317183-08be-4431-adc7-3341fea2e94b",
   "metadata": {},
   "outputs": [],
   "source": [
    "!python3 -m frame_interpolation.eval.interpolator_cli \\\n",
    "     --pattern \"project_volume/9-shrek_interpol_next_182\" \\\n",
    "     --model_path project_volume/saved_model \\\n",
    "     --times_to_interpolate 2 \\\n",
    "     --output_video"
   ]
  },
  {
   "cell_type": "code",
   "execution_count": null,
   "id": "e4892ce3-b328-48e1-b311-565e97e4a256",
   "metadata": {
    "tags": []
   },
   "outputs": [],
   "source": [
    "!python3 -m frame_interpolation.eval.interpolator_cli --helpfull"
   ]
  },
  {
   "cell_type": "code",
   "execution_count": null,
   "id": "fd7881ca-9dee-4a5f-ab41-d07c98510097",
   "metadata": {
    "tags": []
   },
   "outputs": [],
   "source": [
    "!python3 -m frame_interpolation.eval.interpolator_cli \\\n",
    "     --pattern \"project_volume/shrek_sequences/stable_diffusion_caravagio_fruit_on_shrek_10_fps_stone_ledge/*\" \\\n",
    "     --model_path project_volume/saved_model \\\n",
    "     --times_to_interpolate 2 \\\n",
    "     --output_video"
   ]
  },
  {
   "cell_type": "code",
   "execution_count": null,
   "id": "7ac8fc98-b63d-4e4f-aa94-ef6181ceb243",
   "metadata": {},
   "outputs": [],
   "source": []
  }
 ],
 "metadata": {
  "kernelspec": {
   "display_name": "Python 3 (ipykernel)",
   "language": "python",
   "name": "python3"
  },
  "language_info": {
   "codemirror_mode": {
    "name": "ipython",
    "version": 3
   },
   "file_extension": ".py",
   "mimetype": "text/x-python",
   "name": "python",
   "nbconvert_exporter": "python",
   "pygments_lexer": "ipython3",
   "version": "3.7.12"
  }
 },
 "nbformat": 4,
 "nbformat_minor": 5
}
